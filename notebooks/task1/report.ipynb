{
 "cells": [
  {
   "cell_type": "markdown",
   "metadata": {
    "collapsed": true,
    "pycharm": {
     "name": "#%% md\n"
    }
   },
   "source": [
    "# Team Ares -- Task 1 Report -- Fall 2020\n",
    "## Contributions:\n",
    "### Cody Shearer\n",
    "- Created/managed team repository.\n",
    "- Helped setup development environments.\n",
    "- Added setup instructions for PyCharm jupyter notebooks.\n",
    "- Organized team meetings.\n",
    "- Created experiments, evaluation, and report on BIM attacks.\n",
    "\n",
    "### Zhymir Thompson\n",
    "### Mahmudul Hasan\n",
    "### Vincent Davidson\n",
    "- Co-managed team's project meetings.\n",
    "- Co-managed each team member's individual contributions./n",
    "- Created experiments, evaluation and report on PGD attacks.\n",
    "\n",
    "___\n",
    "\n",
    "## Additional setup for PyCharm jupyter notebooks (optional)\n",
    "While jupyter notebooks can be opened/run in the browser, if you would like to run it in PyCharm, you will first need to\n",
    "ensure you are running the Professional version of PyCharm (free for students). Once you have done so and upon opening\n",
    "this notebook you should be asked to install a jupyter notebook extension. Once installed, run the following in the\n",
    "terminal [(solution from here)](https://youtrack.jetbrains.com/issue/PY-36913). Be sure to replace \"athena\" with the\n",
    "name of your conda environment if not already done.\n",
    "```\n",
    "conda activate athena\n",
    "python -m ipykernel install --user --name athena --display-name \"Python (athena)\n",
    "```\n",
    "Finally, select `Python (athena)` as the jupyter interpreter (visible in the bar above, when the notebook is open).\n",
    "\n",
    "## BIM Attack and Evaluation\n",
    "Here we consider an adversarial attack on a convolutional neural network (CNN) trained on a subset (10%) of the MNIST dataset using five variations of the [basic iterative method](https://arxiv.org/pdf/1607.02533.pdf) (BIM). We hold the epsilon value constant at 0.10 while varying the maximum number of iterations to explore how this may impact the error rate of the undefeneded model (UM), an athena ensemble, and PGD-ADT. We test BIM with the following parameters:\n",
    "- epsilon: 0.10\n",
    "- max_iter: 100, 90, 80, 70, 60\n",
    "\n",
    "Using the following configurations, we generate AEs and evaluate their effectivness against the UM, the ensemble model, and PGD-ADT, using `notebooks/Task1_GenerateAEs_ZeroKnowledgeModel.ipynb`:\n",
    "- `src/configs/task1/athena-mnist.json`\n",
    "- `src/configs/task1/attack-bim-mnist.json`\n",
    "- `src/configs/task1/data-bim-mnist.json`\n",
    "\n",
    "The AEs can be found at:\n",
    "- `AE-mnist-cnn-clean-bim_eps0.1_maxiter60.npy`\n",
    "- `AE-mnist-cnn-clean-bim_eps0.1_maxiter70.npy`\n",
    "- `AE-mnist-cnn-clean-bim_eps0.1_maxiter80.npy`\n",
    "- `AE-mnist-cnn-clean-bim_eps0.1_maxiter90.npy`\n",
    "- `AE-mnist-cnn-clean-bim_eps0.1_maxiter100.npy`\n",
    "\n",
    "### Undefended Model Results\n",
    "We find that the error rate drops only for the UM and only twice. We would expect these drops to occur only at 70 and 60, perhaps as some upper bound is reached. However, we find the interesting result that the drop in error rate occurs only from 100 to 90 and 70 to 60; the error rate is the same for 90, 80, and 70. \n",
    "\n",
    "### Ensemble and PGD-ADT Results\n",
    "The ensemble has nearly the same error rate as PGD-ADT, which in all cases is about 2%. \n",
    "\n",
    "| BIM Error Rate (epsilon=0.1) |             |             |             |                                             |                                             |\n",
    "|------------------------|-------------|-------------|-------------|---------------------------------------------|---------------------------------------------|\n",
    "| Max Iterations         | UM          | Ensemble    | PGD-ADT     | 9->1                                        | 4->9                                        |\n",
    "| 100                    | 0.933534743 | 0.022155086 | 0.025176234 | ![](figures/bim_eps0.1_maxiter90_9to1.png) | ![](figures/bim_eps0.1_maxiter100_4to9.png) |\n",
    "| 90                     | 0.930513595 | 0.022155086 | 0.025176234 | ![](figures/bim_eps0.1_maxiter90_9to1.png)  | ![](figures/bim_eps0.1_maxiter90_4to9.png)  |\n",
    "| 80                     | 0.930513595 | 0.022155086 | 0.025176234 | ![](figures/bim_eps0.1_maxiter80_9to1.png)  | ![](figures/bim_eps0.1_maxiter80_4to9.png)  |\n",
    "| 70                     | 0.930513595 | 0.022155086 | 0.025176234 | ![](figures/bim_eps0.1_maxiter70_9to1.png)  | ![](figures/bim_eps0.1_maxiter70_4to9.png)  |\n",
    "| 60                     | 0.926485398 | 0.022155086 | 0.025176234 | ![](figures/bim_eps0.1_maxiter60_9to1.png)  | ![](figures/bim_eps0.1_maxiter60_4to9.png)  |\n",
    "\n",
    "In conclusion, BIM is only effective against the UM, with the erorr rates of the ensemble model and PGD-ADT being around 2%. Changes to the maximum iterations for BIM only have a (slight) effect on the UM, with the ensemble model and PGD-ADT defenses seeing no change."
   ]
  }
 ],
 "metadata": {
  "kernelspec": {
   "display_name": "Python (athena)",
   "language": "python",
   "name": "athena"
  },
  "language_info": {
   "codemirror_mode": {
    "name": "ipython",
    "version": 3
   },
   "file_extension": ".py",
   "mimetype": "text/x-python",
   "name": "python",
   "nbconvert_exporter": "python",
   "pygments_lexer": "ipython3",
   "version": "3.7.9"
  }
 },
 "nbformat": 4,
 "nbformat_minor": 1
}
